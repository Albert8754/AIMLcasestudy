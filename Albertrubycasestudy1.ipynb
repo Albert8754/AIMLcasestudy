{
 "cells": [
  {
   "cell_type": "code",
   "execution_count": 1,
   "id": "6d81a31d",
   "metadata": {},
   "outputs": [],
   "source": [
    "#importing essential libraries\n",
    "import numpy as np\n",
    "import pandas as pd\n",
    "import matplotlib.pyplot as plt\n",
    "import seaborn as sns"
   ]
  },
  {
   "cell_type": "markdown",
   "id": "45630a27",
   "metadata": {},
   "source": [
    "# Logistic Regression"
   ]
  },
  {
   "cell_type": "markdown",
   "id": "565fad5a",
   "metadata": {},
   "source": [
    "Iris.csv file contains details of iris flowers. Iris is a flower found mainly in Asian countries. \n",
    "Iris flowers have an unusual structure and appearance. It contains sepals and petals as \n",
    "shown in the image below. Two different species of iris flowers are present in the dataset. \n",
    "Use logistic regression to predict whether a flower belongs to species 0 (Setosa) or species \n",
    "1(Versicolor) from SepalLengthCm column alone. Which species a flower with sepal \n",
    "length 7.5cm belong to?"
   ]
  },
  {
   "cell_type": "code",
   "execution_count": 2,
   "id": "b271f5fc",
   "metadata": {},
   "outputs": [],
   "source": [
    " df=pd.read_csv(r'C:\\Users\\HP\\Downloads\\Iris.csv')"
   ]
  },
  {
   "cell_type": "code",
   "execution_count": 3,
   "id": "063a4240",
   "metadata": {},
   "outputs": [
    {
     "data": {
      "text/html": [
       "<div>\n",
       "<style scoped>\n",
       "    .dataframe tbody tr th:only-of-type {\n",
       "        vertical-align: middle;\n",
       "    }\n",
       "\n",
       "    .dataframe tbody tr th {\n",
       "        vertical-align: top;\n",
       "    }\n",
       "\n",
       "    .dataframe thead th {\n",
       "        text-align: right;\n",
       "    }\n",
       "</style>\n",
       "<table border=\"1\" class=\"dataframe\">\n",
       "  <thead>\n",
       "    <tr style=\"text-align: right;\">\n",
       "      <th></th>\n",
       "      <th>Id</th>\n",
       "      <th>SepalLengthCm</th>\n",
       "      <th>SepalWidthCm</th>\n",
       "      <th>PetalLengthCm</th>\n",
       "      <th>PetalWidthCm</th>\n",
       "      <th>Species</th>\n",
       "    </tr>\n",
       "  </thead>\n",
       "  <tbody>\n",
       "    <tr>\n",
       "      <th>0</th>\n",
       "      <td>1</td>\n",
       "      <td>5.1</td>\n",
       "      <td>3.5</td>\n",
       "      <td>1.4</td>\n",
       "      <td>0.2</td>\n",
       "      <td>0</td>\n",
       "    </tr>\n",
       "    <tr>\n",
       "      <th>1</th>\n",
       "      <td>2</td>\n",
       "      <td>4.9</td>\n",
       "      <td>3.0</td>\n",
       "      <td>1.4</td>\n",
       "      <td>0.2</td>\n",
       "      <td>0</td>\n",
       "    </tr>\n",
       "    <tr>\n",
       "      <th>2</th>\n",
       "      <td>3</td>\n",
       "      <td>4.7</td>\n",
       "      <td>3.2</td>\n",
       "      <td>1.3</td>\n",
       "      <td>0.2</td>\n",
       "      <td>0</td>\n",
       "    </tr>\n",
       "    <tr>\n",
       "      <th>3</th>\n",
       "      <td>4</td>\n",
       "      <td>4.6</td>\n",
       "      <td>3.1</td>\n",
       "      <td>1.5</td>\n",
       "      <td>0.2</td>\n",
       "      <td>0</td>\n",
       "    </tr>\n",
       "    <tr>\n",
       "      <th>4</th>\n",
       "      <td>5</td>\n",
       "      <td>5.0</td>\n",
       "      <td>3.6</td>\n",
       "      <td>1.4</td>\n",
       "      <td>0.2</td>\n",
       "      <td>0</td>\n",
       "    </tr>\n",
       "  </tbody>\n",
       "</table>\n",
       "</div>"
      ],
      "text/plain": [
       "   Id  SepalLengthCm  SepalWidthCm  PetalLengthCm  PetalWidthCm  Species\n",
       "0   1            5.1           3.5            1.4           0.2        0\n",
       "1   2            4.9           3.0            1.4           0.2        0\n",
       "2   3            4.7           3.2            1.3           0.2        0\n",
       "3   4            4.6           3.1            1.5           0.2        0\n",
       "4   5            5.0           3.6            1.4           0.2        0"
      ]
     },
     "execution_count": 3,
     "metadata": {},
     "output_type": "execute_result"
    }
   ],
   "source": [
    "df.head()"
   ]
  },
  {
   "cell_type": "markdown",
   "id": "b6b3b624",
   "metadata": {},
   "source": [
    "our data set is loaded correctly but index needed to be changed"
   ]
  },
  {
   "cell_type": "code",
   "execution_count": 4,
   "id": "6936ab6c",
   "metadata": {},
   "outputs": [],
   "source": [
    "df=df.drop(['Id'],axis=1)"
   ]
  },
  {
   "cell_type": "code",
   "execution_count": 5,
   "id": "d019f51b",
   "metadata": {},
   "outputs": [
    {
     "data": {
      "text/plain": [
       "SepalLengthCm    0\n",
       "SepalWidthCm     0\n",
       "PetalLengthCm    0\n",
       "PetalWidthCm     0\n",
       "Species          0\n",
       "dtype: int64"
      ]
     },
     "execution_count": 5,
     "metadata": {},
     "output_type": "execute_result"
    }
   ],
   "source": [
    "df.isna().sum()"
   ]
  },
  {
   "cell_type": "markdown",
   "id": "0c9f81f4",
   "metadata": {},
   "source": [
    "there is no missing values so we can assume that cleaing of data set is not required"
   ]
  },
  {
   "cell_type": "code",
   "execution_count": 6,
   "id": "30301e5e",
   "metadata": {},
   "outputs": [
    {
     "name": "stderr",
     "output_type": "stream",
     "text": [
      "C:\\Users\\HP\\anaconda3\\lib\\site-packages\\seaborn\\_decorators.py:36: FutureWarning: Pass the following variable as a keyword arg: x. From version 0.12, the only valid positional argument will be `data`, and passing other arguments without an explicit keyword will result in an error or misinterpretation.\n",
      "  warnings.warn(\n"
     ]
    },
    {
     "data": {
      "text/plain": [
       "<AxesSubplot:xlabel='SepalLengthCm'>"
      ]
     },
     "execution_count": 6,
     "metadata": {},
     "output_type": "execute_result"
    },
    {
     "data": {
      "image/png": "[encoded data removed]",
      "text/plain": [
       "<Figure size 432x288 with 1 Axes>"
      ]
     },
     "metadata": {
      "needs_background": "light"
     },
     "output_type": "display_data"
    }
   ],
   "source": [
    "sns.boxplot(df.SepalLengthCm)"
   ]
  },
  {
   "cell_type": "markdown",
   "id": "a2e1bb64",
   "metadata": {},
   "source": [
    "do there is no outlier that we can assume"
   ]
  },
  {
   "cell_type": "code",
   "execution_count": 7,
   "id": "07333189",
   "metadata": {},
   "outputs": [],
   "source": [
    "#Splitting Data we need to do in sepal lenght alone\n",
    "X= df.iloc[:,:-4].values\n",
    "y= df.iloc[:, -1].values"
   ]
  },
  {
   "cell_type": "code",
   "execution_count": 8,
   "id": "d268c61e",
   "metadata": {
    "scrolled": true
   },
   "outputs": [
    {
     "name": "stdout",
     "output_type": "stream",
     "text": [
      "[[5.1]\n",
      " [4.9]\n",
      " [4.7]\n",
      " [4.6]\n",
      " [5. ]\n",
      " [5.4]\n",
      " [4.6]\n",
      " [5. ]\n",
      " [4.4]\n",
      " [4.9]\n",
      " [5.4]\n",
      " [4.8]\n",
      " [4.8]\n",
      " [4.3]\n",
      " [5.8]\n",
      " [5.7]\n",
      " [5.4]\n",
      " [5.1]\n",
      " [5.7]\n",
      " [5.1]\n",
      " [5.4]\n",
      " [5.1]\n",
      " [4.6]\n",
      " [5.1]\n",
      " [4.8]\n",
      " [5. ]\n",
      " [5. ]\n",
      " [5.2]\n",
      " [5.2]\n",
      " [4.7]\n",
      " [4.8]\n",
      " [5.4]\n",
      " [5.2]\n",
      " [5.5]\n",
      " [4.9]\n",
      " [5. ]\n",
      " [5.5]\n",
      " [4.9]\n",
      " [4.4]\n",
      " [5.1]\n",
      " [5. ]\n",
      " [4.5]\n",
      " [4.4]\n",
      " [5. ]\n",
      " [5.1]\n",
      " [4.8]\n",
      " [5.1]\n",
      " [4.6]\n",
      " [5.3]\n",
      " [5. ]\n",
      " [7. ]\n",
      " [6.4]\n",
      " [6.9]\n",
      " [5.5]\n",
      " [6.5]\n",
      " [5.7]\n",
      " [6.3]\n",
      " [4.9]\n",
      " [6.6]\n",
      " [5.2]\n",
      " [5. ]\n",
      " [5.9]\n",
      " [6. ]\n",
      " [6.1]\n",
      " [5.6]\n",
      " [6.7]\n",
      " [5.6]\n",
      " [5.8]\n",
      " [6.2]\n",
      " [5.6]\n",
      " [5.9]\n",
      " [6.1]\n",
      " [6.3]\n",
      " [6.1]\n",
      " [6.4]\n",
      " [6.6]\n",
      " [6.8]\n",
      " [6.7]\n",
      " [6. ]\n",
      " [5.7]\n",
      " [5.5]\n",
      " [5.5]\n",
      " [5.8]\n",
      " [6. ]\n",
      " [5.4]\n",
      " [6. ]\n",
      " [6.7]\n",
      " [6.3]\n",
      " [5.6]\n",
      " [5.5]\n",
      " [5.5]\n",
      " [6.1]\n",
      " [5.8]\n",
      " [5. ]\n",
      " [5.6]\n",
      " [5.7]\n",
      " [5.7]\n",
      " [6.2]\n",
      " [5.1]\n",
      " [5.7]]\n",
      "[0 0 0 0 0 0 0 0 0 0 0 0 0 0 0 0 0 0 0 0 0 0 0 0 0 0 0 0 0 0 0 0 0 0 0 0 0\n",
      " 0 0 0 0 0 0 0 0 0 0 0 0 0 1 1 1 1 1 1 1 1 1 1 1 1 1 1 1 1 1 1 1 1 1 1 1 1\n",
      " 1 1 1 1 1 1 1 1 1 1 1 1 1 1 1 1 1 1 1 1 1 1 1 1 1 1]\n"
     ]
    }
   ],
   "source": [
    "print(X)\n",
    "print(y)"
   ]
  },
  {
   "cell_type": "code",
   "execution_count": 9,
   "id": "ba25ba88",
   "metadata": {},
   "outputs": [],
   "source": [
    "#logistic regression we need sklearn library\n",
    "from sklearn.model_selection import train_test_split\n",
    "X_train,X_test,y_train,y_test=train_test_split(X,y,random_state=42,test_size=.20)"
   ]
  },
  {
   "cell_type": "code",
   "execution_count": 10,
   "id": "0682948e",
   "metadata": {},
   "outputs": [],
   "source": [
    "from sklearn.linear_model import LogisticRegression\n",
    "lr=LogisticRegression()\n"
   ]
  },
  {
   "cell_type": "code",
   "execution_count": 11,
   "id": "b2c0b40b",
   "metadata": {},
   "outputs": [],
   "source": [
    "model=lr.fit(X_train,y_train)"
   ]
  },
  {
   "cell_type": "code",
   "execution_count": 12,
   "id": "1d53976e",
   "metadata": {},
   "outputs": [],
   "source": [
    "#now we have fitted model into variable"
   ]
  },
  {
   "cell_type": "code",
   "execution_count": 13,
   "id": "dbeee5f3",
   "metadata": {},
   "outputs": [],
   "source": [
    "from sklearn import metrics\n",
    "pred=lr.predict(X_test)"
   ]
  },
  {
   "cell_type": "code",
   "execution_count": 14,
   "id": "1ec78125",
   "metadata": {},
   "outputs": [
    {
     "data": {
      "text/plain": [
       "array([[8, 4],\n",
       "       [0, 8]], dtype=int64)"
      ]
     },
     "execution_count": 14,
     "metadata": {},
     "output_type": "execute_result"
    }
   ],
   "source": [
    "from sklearn.metrics import confusion_matrix\n",
    "confusion_matrix(y_test,pred)"
   ]
  },
  {
   "cell_type": "markdown",
   "id": "3c754cbc",
   "metadata": {},
   "source": [
    "#  Which species a flower with sepal length 7.5cm belong to?"
   ]
  },
  {
   "cell_type": "code",
   "execution_count": 15,
   "id": "5adc217d",
   "metadata": {},
   "outputs": [
    {
     "name": "stdout",
     "output_type": "stream",
     "text": [
      "sepal lenght = [7.5]\n",
      "species of flower = 1\n"
     ]
    }
   ],
   "source": [
    "sepal = [7.5]\n",
    "own_pred = lr.predict([sepal])\n",
    "print(\"sepal lenght = {}\".format(sepal))\n",
    "print(\"species of flower = {}\".format(round(own_pred[0],3)))"
   ]
  },
  {
   "cell_type": "markdown",
   "id": "26940e98",
   "metadata": {},
   "source": [
    "# Linear Regression"
   ]
  },
  {
   "cell_type": "markdown",
   "id": "5b498b84",
   "metadata": {},
   "source": [
    "car_year_price.csv file contains price of second-hand Hyundai grand i10 car with respect \n",
    "to year of making. Find the best linear relationship between year and price. Can you \n",
    "predict the possible price of a 2022 model second-hand grand i10?"
   ]
  },
  {
   "cell_type": "code",
   "execution_count": 16,
   "id": "da6afc55",
   "metadata": {},
   "outputs": [],
   "source": [
    "df1=pd.read_csv(r'C:\\Users\\HP\\Downloads\\car_age_price.csv')"
   ]
  },
  {
   "cell_type": "code",
   "execution_count": 17,
   "id": "9fd99501",
   "metadata": {},
   "outputs": [
    {
     "data": {
      "text/html": [
       "<div>\n",
       "<style scoped>\n",
       "    .dataframe tbody tr th:only-of-type {\n",
       "        vertical-align: middle;\n",
       "    }\n",
       "\n",
       "    .dataframe tbody tr th {\n",
       "        vertical-align: top;\n",
       "    }\n",
       "\n",
       "    .dataframe thead th {\n",
       "        text-align: right;\n",
       "    }\n",
       "</style>\n",
       "<table border=\"1\" class=\"dataframe\">\n",
       "  <thead>\n",
       "    <tr style=\"text-align: right;\">\n",
       "      <th></th>\n",
       "      <th>Year</th>\n",
       "      <th>Price</th>\n",
       "    </tr>\n",
       "  </thead>\n",
       "  <tbody>\n",
       "    <tr>\n",
       "      <th>0</th>\n",
       "      <td>2018</td>\n",
       "      <td>465000</td>\n",
       "    </tr>\n",
       "    <tr>\n",
       "      <th>1</th>\n",
       "      <td>2019</td>\n",
       "      <td>755000</td>\n",
       "    </tr>\n",
       "    <tr>\n",
       "      <th>2</th>\n",
       "      <td>2019</td>\n",
       "      <td>700000</td>\n",
       "    </tr>\n",
       "    <tr>\n",
       "      <th>3</th>\n",
       "      <td>2018</td>\n",
       "      <td>465000</td>\n",
       "    </tr>\n",
       "    <tr>\n",
       "      <th>4</th>\n",
       "      <td>2018</td>\n",
       "      <td>465000</td>\n",
       "    </tr>\n",
       "    <tr>\n",
       "      <th>...</th>\n",
       "      <td>...</td>\n",
       "      <td>...</td>\n",
       "    </tr>\n",
       "    <tr>\n",
       "      <th>107</th>\n",
       "      <td>2016</td>\n",
       "      <td>375000</td>\n",
       "    </tr>\n",
       "    <tr>\n",
       "      <th>108</th>\n",
       "      <td>2014</td>\n",
       "      <td>300000</td>\n",
       "    </tr>\n",
       "    <tr>\n",
       "      <th>109</th>\n",
       "      <td>2015</td>\n",
       "      <td>425000</td>\n",
       "    </tr>\n",
       "    <tr>\n",
       "      <th>110</th>\n",
       "      <td>2016</td>\n",
       "      <td>420000</td>\n",
       "    </tr>\n",
       "    <tr>\n",
       "      <th>111</th>\n",
       "      <td>2015</td>\n",
       "      <td>425000</td>\n",
       "    </tr>\n",
       "  </tbody>\n",
       "</table>\n",
       "<p>112 rows × 2 columns</p>\n",
       "</div>"
      ],
      "text/plain": [
       "     Year   Price\n",
       "0    2018  465000\n",
       "1    2019  755000\n",
       "2    2019  700000\n",
       "3    2018  465000\n",
       "4    2018  465000\n",
       "..    ...     ...\n",
       "107  2016  375000\n",
       "108  2014  300000\n",
       "109  2015  425000\n",
       "110  2016  420000\n",
       "111  2015  425000\n",
       "\n",
       "[112 rows x 2 columns]"
      ]
     },
     "execution_count": 17,
     "metadata": {},
     "output_type": "execute_result"
    }
   ],
   "source": [
    "df1"
   ]
  },
  {
   "cell_type": "code",
   "execution_count": 18,
   "id": "e05d79ea",
   "metadata": {},
   "outputs": [
    {
     "data": {
      "text/plain": [
       "Year     0\n",
       "Price    0\n",
       "dtype: int64"
      ]
     },
     "execution_count": 18,
     "metadata": {},
     "output_type": "execute_result"
    }
   ],
   "source": [
    "df1.isna().sum()"
   ]
  },
  {
   "cell_type": "code",
   "execution_count": 19,
   "id": "125dc20a",
   "metadata": {},
   "outputs": [],
   "source": [
    "#no missing values we can now apply linear regression model"
   ]
  },
  {
   "cell_type": "code",
   "execution_count": 20,
   "id": "75311613",
   "metadata": {},
   "outputs": [],
   "source": [
    "X= df1.iloc[:, :-1].values\n",
    "y= df1.iloc[:, 1].values"
   ]
  },
  {
   "cell_type": "code",
   "execution_count": 21,
   "id": "a8b42f3a",
   "metadata": {
    "scrolled": false
   },
   "outputs": [
    {
     "data": {
      "text/plain": [
       "array([[2018],\n",
       "       [2019],\n",
       "       [2019],\n",
       "       [2018],\n",
       "       [2018],\n",
       "       [2015],\n",
       "       [2016],\n",
       "       [2017],\n",
       "       [2017],\n",
       "       [2017],\n",
       "       [2019],\n",
       "       [2018],\n",
       "       [2017],\n",
       "       [2019],\n",
       "       [2017],\n",
       "       [2017],\n",
       "       [2017],\n",
       "       [2017],\n",
       "       [2019],\n",
       "       [2017],\n",
       "       [2018],\n",
       "       [2019],\n",
       "       [2015],\n",
       "       [2017],\n",
       "       [2017],\n",
       "       [2017],\n",
       "       [2017],\n",
       "       [2017],\n",
       "       [2017],\n",
       "       [2017],\n",
       "       [2019],\n",
       "       [2017],\n",
       "       [2017],\n",
       "       [2017],\n",
       "       [2017],\n",
       "       [2017],\n",
       "       [2017],\n",
       "       [2017],\n",
       "       [2018],\n",
       "       [2020],\n",
       "       [2019],\n",
       "       [2019],\n",
       "       [2018],\n",
       "       [2019],\n",
       "       [2019],\n",
       "       [2018],\n",
       "       [2019],\n",
       "       [2018],\n",
       "       [2016],\n",
       "       [2018],\n",
       "       [2013],\n",
       "       [2018],\n",
       "       [2013],\n",
       "       [2013],\n",
       "       [2017],\n",
       "       [2017],\n",
       "       [2014],\n",
       "       [2017],\n",
       "       [2014],\n",
       "       [2016],\n",
       "       [2015],\n",
       "       [2017],\n",
       "       [2017],\n",
       "       [2017],\n",
       "       [2015],\n",
       "       [2017],\n",
       "       [2017],\n",
       "       [2015],\n",
       "       [2015],\n",
       "       [2015],\n",
       "       [2015],\n",
       "       [2017],\n",
       "       [2015],\n",
       "       [2013],\n",
       "       [2017],\n",
       "       [2017],\n",
       "       [2015],\n",
       "       [2015],\n",
       "       [2015],\n",
       "       [2015],\n",
       "       [2015],\n",
       "       [2014],\n",
       "       [2015],\n",
       "       [2017],\n",
       "       [2015],\n",
       "       [2015],\n",
       "       [2017],\n",
       "       [2017],\n",
       "       [2017],\n",
       "       [2017],\n",
       "       [2017],\n",
       "       [2017],\n",
       "       [2017],\n",
       "       [2017],\n",
       "       [2017],\n",
       "       [2017],\n",
       "       [2017],\n",
       "       [2020],\n",
       "       [2020],\n",
       "       [2020],\n",
       "       [2016],\n",
       "       [2015],\n",
       "       [2015],\n",
       "       [2017],\n",
       "       [2014],\n",
       "       [2014],\n",
       "       [2015],\n",
       "       [2016],\n",
       "       [2014],\n",
       "       [2015],\n",
       "       [2016],\n",
       "       [2015]], dtype=int64)"
      ]
     },
     "execution_count": 21,
     "metadata": {},
     "output_type": "execute_result"
    }
   ],
   "source": [
    "X"
   ]
  },
  {
   "cell_type": "code",
   "execution_count": 22,
   "id": "5e9c3bf2",
   "metadata": {},
   "outputs": [
    {
     "data": {
      "text/plain": [
       "array([465000, 755000, 700000, 465000, 465000, 350000, 425000, 575000,\n",
       "       509999, 575000, 500000, 500000, 500000, 600000, 475000, 500000,\n",
       "       500000, 550000, 500000, 500000, 500000, 500000, 434999, 550000,\n",
       "       550000, 550000, 550000, 550000, 550000, 550000, 650000, 550000,\n",
       "       550000, 550000, 450000, 550000, 550000, 486000, 475000, 545000,\n",
       "       525000, 600000, 550000, 550000, 550000, 450000, 500000, 450000,\n",
       "       396000, 600000, 325000, 550000, 345000, 345000, 525000, 550000,\n",
       "       341000, 550000, 450000, 550000, 490000, 540000, 540000, 595000,\n",
       "       490000, 495000, 525000, 400000, 465000, 300000, 450000, 490000,\n",
       "       300000, 320000, 490000, 490000, 450000, 325000, 409999, 400000,\n",
       "       390000, 390000, 390000, 480000, 325000, 320000, 520000, 520000,\n",
       "       520000, 520000, 520000, 520000, 520000, 520000, 520000, 520000,\n",
       "       520000, 640000, 700000, 600000, 350000, 400000, 350000, 375000,\n",
       "       400000, 400000, 300000, 375000, 300000, 425000, 420000, 425000],\n",
       "      dtype=int64)"
      ]
     },
     "execution_count": 22,
     "metadata": {},
     "output_type": "execute_result"
    }
   ],
   "source": [
    "y"
   ]
  },
  {
   "cell_type": "code",
   "execution_count": 23,
   "id": "7af77fee",
   "metadata": {},
   "outputs": [],
   "source": [
    "# 20% data as validation set\n",
    "from sklearn.model_selection import train_test_split\n",
    "X_train,X_test,y_train,y_test = train_test_split(X,y,test_size=0.2,random_state=42)"
   ]
  },
  {
   "cell_type": "code",
   "execution_count": 24,
   "id": "4e2d21a3",
   "metadata": {},
   "outputs": [],
   "source": [
    "#importing models from  libraries\n",
    "from sklearn.linear_model import  LinearRegression"
   ]
  },
  {
   "cell_type": "code",
   "execution_count": 25,
   "id": "d5663ea8",
   "metadata": {},
   "outputs": [],
   "source": [
    "#linear Regression\n",
    "lr=LinearRegression()\n",
    "lr.fit(X_train,y_train)\n",
    "pred=lr.predict(X_test)"
   ]
  },
  {
   "cell_type": "code",
   "execution_count": 26,
   "id": "53bddafe",
   "metadata": {
    "scrolled": true
   },
   "outputs": [
    {
     "name": "stdout",
     "output_type": "stream",
     "text": [
      "R2score for liner Regressor: 0.36759313425902185\n"
     ]
    }
   ],
   "source": [
    "from sklearn import metrics\n",
    "pred=lr.predict(X_test)\n",
    "print('R2score for liner Regressor:',metrics.r2_score(y_test,pred))"
   ]
  },
  {
   "cell_type": "markdown",
   "id": "4f55a0ba",
   "metadata": {},
   "source": [
    "#  possible price of a 2022 model second-hand grand i10"
   ]
  },
  {
   "cell_type": "code",
   "execution_count": 27,
   "id": "d1d67dab",
   "metadata": {},
   "outputs": [
    {
     "name": "stdout",
     "output_type": "stream",
     "text": [
      "year = [2022]\n",
      "Predicted Price = 743601.616\n"
     ]
    }
   ],
   "source": [
    "year = [2022]\n",
    "own_pred = lr.predict([year])\n",
    "print(\"year = {}\".format(year))\n",
    "print(\"Predicted Price = {}\".format(round(own_pred[0],3)))"
   ]
  },
  {
   "cell_type": "code",
   "execution_count": null,
   "id": "4cbc91f6",
   "metadata": {},
   "outputs": [],
   "source": []
  }
 ],
 "metadata": {
  "kernelspec": {
   "display_name": "Python 3 (ipykernel)",
   "language": "python",
   "name": "python3"
  },
  "language_info": {
   "codemirror_mode": {
    "name": "ipython",
    "version": 3
   },
   "file_extension": ".py",
   "mimetype": "text/x-python",
   "name": "python",
   "nbconvert_exporter": "python",
   "pygments_lexer": "ipython3",
   "version": "3.9.12"
  }
 },
 "nbformat": 4,
 "nbformat_minor": 5
}
