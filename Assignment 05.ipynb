{
 "cells": [
  {
   "cell_type": "code",
   "execution_count": 2,
   "id": "2c6a1e46",
   "metadata": {},
   "outputs": [],
   "source": [
    "import pandas as pd\n",
    "import numpy as np\n",
    "import matplotlib.pyplot as plt\n",
    "from sklearn.metrics import accuracy_score"
   ]
  },
  {
   "cell_type": "markdown",
   "id": "76df6c64",
   "metadata": {},
   "source": [
    "# Load Data set"
   ]
  },
  {
   "cell_type": "code",
   "execution_count": 3,
   "id": "37fd39d1",
   "metadata": {},
   "outputs": [
    {
     "data": {
      "text/html": [
       "<div>\n",
       "<style scoped>\n",
       "    .dataframe tbody tr th:only-of-type {\n",
       "        vertical-align: middle;\n",
       "    }\n",
       "\n",
       "    .dataframe tbody tr th {\n",
       "        vertical-align: top;\n",
       "    }\n",
       "\n",
       "    .dataframe thead th {\n",
       "        text-align: right;\n",
       "    }\n",
       "</style>\n",
       "<table border=\"1\" class=\"dataframe\">\n",
       "  <thead>\n",
       "    <tr style=\"text-align: right;\">\n",
       "      <th></th>\n",
       "      <th>PassengerId</th>\n",
       "      <th>Survived</th>\n",
       "      <th>Pclass</th>\n",
       "      <th>Name</th>\n",
       "      <th>Sex</th>\n",
       "      <th>Age</th>\n",
       "      <th>SibSp</th>\n",
       "      <th>Parch</th>\n",
       "      <th>Ticket</th>\n",
       "      <th>Fare</th>\n",
       "      <th>Cabin</th>\n",
       "      <th>Embarked</th>\n",
       "    </tr>\n",
       "  </thead>\n",
       "  <tbody>\n",
       "    <tr>\n",
       "      <th>0</th>\n",
       "      <td>1</td>\n",
       "      <td>0</td>\n",
       "      <td>3</td>\n",
       "      <td>Braund, Mr. Owen Harris</td>\n",
       "      <td>male</td>\n",
       "      <td>22.0</td>\n",
       "      <td>1</td>\n",
       "      <td>0</td>\n",
       "      <td>A/5 21171</td>\n",
       "      <td>7.2500</td>\n",
       "      <td>NaN</td>\n",
       "      <td>S</td>\n",
       "    </tr>\n",
       "    <tr>\n",
       "      <th>1</th>\n",
       "      <td>2</td>\n",
       "      <td>1</td>\n",
       "      <td>1</td>\n",
       "      <td>Cumings, Mrs. John Bradley (Florence Briggs Th...</td>\n",
       "      <td>female</td>\n",
       "      <td>38.0</td>\n",
       "      <td>1</td>\n",
       "      <td>0</td>\n",
       "      <td>PC 17599</td>\n",
       "      <td>71.2833</td>\n",
       "      <td>C85</td>\n",
       "      <td>C</td>\n",
       "    </tr>\n",
       "    <tr>\n",
       "      <th>2</th>\n",
       "      <td>3</td>\n",
       "      <td>1</td>\n",
       "      <td>3</td>\n",
       "      <td>Heikkinen, Miss. Laina</td>\n",
       "      <td>female</td>\n",
       "      <td>26.0</td>\n",
       "      <td>0</td>\n",
       "      <td>0</td>\n",
       "      <td>STON/O2. 3101282</td>\n",
       "      <td>7.9250</td>\n",
       "      <td>NaN</td>\n",
       "      <td>S</td>\n",
       "    </tr>\n",
       "    <tr>\n",
       "      <th>3</th>\n",
       "      <td>4</td>\n",
       "      <td>1</td>\n",
       "      <td>1</td>\n",
       "      <td>Futrelle, Mrs. Jacques Heath (Lily May Peel)</td>\n",
       "      <td>female</td>\n",
       "      <td>35.0</td>\n",
       "      <td>1</td>\n",
       "      <td>0</td>\n",
       "      <td>113803</td>\n",
       "      <td>53.1000</td>\n",
       "      <td>C123</td>\n",
       "      <td>S</td>\n",
       "    </tr>\n",
       "    <tr>\n",
       "      <th>4</th>\n",
       "      <td>5</td>\n",
       "      <td>0</td>\n",
       "      <td>3</td>\n",
       "      <td>Allen, Mr. William Henry</td>\n",
       "      <td>male</td>\n",
       "      <td>35.0</td>\n",
       "      <td>0</td>\n",
       "      <td>0</td>\n",
       "      <td>373450</td>\n",
       "      <td>8.0500</td>\n",
       "      <td>NaN</td>\n",
       "      <td>S</td>\n",
       "    </tr>\n",
       "  </tbody>\n",
       "</table>\n",
       "</div>"
      ],
      "text/plain": [
       "   PassengerId  Survived  Pclass  \\\n",
       "0            1         0       3   \n",
       "1            2         1       1   \n",
       "2            3         1       3   \n",
       "3            4         1       1   \n",
       "4            5         0       3   \n",
       "\n",
       "                                                Name     Sex   Age  SibSp  \\\n",
       "0                            Braund, Mr. Owen Harris    male  22.0      1   \n",
       "1  Cumings, Mrs. John Bradley (Florence Briggs Th...  female  38.0      1   \n",
       "2                             Heikkinen, Miss. Laina  female  26.0      0   \n",
       "3       Futrelle, Mrs. Jacques Heath (Lily May Peel)  female  35.0      1   \n",
       "4                           Allen, Mr. William Henry    male  35.0      0   \n",
       "\n",
       "   Parch            Ticket     Fare Cabin Embarked  \n",
       "0      0         A/5 21171   7.2500   NaN        S  \n",
       "1      0          PC 17599  71.2833   C85        C  \n",
       "2      0  STON/O2. 3101282   7.9250   NaN        S  \n",
       "3      0            113803  53.1000  C123        S  \n",
       "4      0            373450   8.0500   NaN        S  "
      ]
     },
     "execution_count": 3,
     "metadata": {},
     "output_type": "execute_result"
    }
   ],
   "source": [
    "df = pd.read_csv(r'C:\\Users\\HP\\Downloads\\titanic (1).csv')\n",
    "df.head()"
   ]
  },
  {
   "cell_type": "code",
   "execution_count": 4,
   "id": "0db0e083",
   "metadata": {},
   "outputs": [
    {
     "name": "stdout",
     "output_type": "stream",
     "text": [
      "<class 'pandas.core.frame.DataFrame'>\n",
      "RangeIndex: 891 entries, 0 to 890\n",
      "Data columns (total 12 columns):\n",
      " #   Column       Non-Null Count  Dtype  \n",
      "---  ------       --------------  -----  \n",
      " 0   PassengerId  891 non-null    int64  \n",
      " 1   Survived     891 non-null    int64  \n",
      " 2   Pclass       891 non-null    int64  \n",
      " 3   Name         891 non-null    object \n",
      " 4   Sex          891 non-null    object \n",
      " 5   Age          714 non-null    float64\n",
      " 6   SibSp        891 non-null    int64  \n",
      " 7   Parch        891 non-null    int64  \n",
      " 8   Ticket       891 non-null    object \n",
      " 9   Fare         891 non-null    float64\n",
      " 10  Cabin        204 non-null    object \n",
      " 11  Embarked     889 non-null    object \n",
      "dtypes: float64(2), int64(5), object(5)\n",
      "memory usage: 83.7+ KB\n"
     ]
    }
   ],
   "source": [
    "df.info()"
   ]
  },
  {
   "cell_type": "code",
   "execution_count": 5,
   "id": "4215728a",
   "metadata": {},
   "outputs": [],
   "source": [
    "#Select 'Pclass','SibSp','Parch','Fare' columns as data. Select ‘Survived’ column as label.\n",
    "\n",
    "X = df[['Pclass','SibSp','Parch','Fare']]\n",
    "y = df.Survived"
   ]
  },
  {
   "cell_type": "markdown",
   "id": "b6357b3d",
   "metadata": {},
   "source": [
    "# Model Building"
   ]
  },
  {
   "cell_type": "code",
   "execution_count": 6,
   "id": "19a850d8",
   "metadata": {},
   "outputs": [],
   "source": [
    "# Apply SVM to classify the data\n",
    "\n",
    "from sklearn.model_selection import train_test_split\n",
    "X_train, X_test, y_train, y_test = train_test_split(X, y, test_size=0.20)"
   ]
  },
  {
   "cell_type": "code",
   "execution_count": 7,
   "id": "14f322a1",
   "metadata": {},
   "outputs": [
    {
     "name": "stdout",
     "output_type": "stream",
     "text": [
      "Accuracy Score:\n",
      " 0.7653631284916201\n"
     ]
    }
   ],
   "source": [
    "from sklearn.svm import SVC\n",
    "model_svc = SVC(kernel='linear')\n",
    "model_svc.fit(X_train,y_train)\n",
    "\n",
    "y_pred = model_svc.predict(X_test)\n",
    "\n",
    "print('Accuracy Score:\\n',accuracy_score(y_test, y_pred))"
   ]
  },
  {
   "cell_type": "code",
   "execution_count": 8,
   "id": "2453c8fb",
   "metadata": {},
   "outputs": [
    {
     "name": "stdout",
     "output_type": "stream",
     "text": [
      "Cross Validation Scores are: [0.61452514 0.65730337 0.66292135 0.7247191  0.74719101]\n",
      "\n",
      "Average of Cross Validation Scores: 0.6813319942250958\n"
     ]
    }
   ],
   "source": [
    "# Use 5-Fold Cross Validation to generalise the model accuracy.\n",
    "\n",
    "from sklearn.model_selection import cross_val_score,KFold\n",
    "\n",
    "kf=KFold(n_splits=5)\n",
    "score=cross_val_score(model_svc,X,y,cv=kf)\n",
    "\n",
    "print(\"Cross Validation Scores are: {}\\n\".format(score))\n",
    "\n",
    "print(\"Average of Cross Validation Scores: {}\".format(score.mean()))"
   ]
  },
  {
   "cell_type": "markdown",
   "id": "fc05a7bf",
   "metadata": {},
   "source": [
    "# Use random search and hyperopt packages to identify the best possible SVM model from the following search space.\n",
    "# 'C': [0.1, 1, 10, 100, 1000]\n",
    "# 'gamma': [1, 0.1, 0.01, 0.001, 0.0001] \n",
    "# 'kernel': ['rbf']"
   ]
  },
  {
   "cell_type": "code",
   "execution_count": 9,
   "id": "543b16cb",
   "metadata": {},
   "outputs": [],
   "source": [
    "search_space ={'C': [0.1, 1, 10, 100, 1000],\n",
    "     'gamma': [1, 0.1, 0.01, 0.001, 0.0001],\n",
    "     'kernel': ['rbf']}"
   ]
  },
  {
   "cell_type": "markdown",
   "id": "efba71bb",
   "metadata": {},
   "source": [
    "# Random Search"
   ]
  },
  {
   "cell_type": "code",
   "execution_count": 10,
   "id": "60bc4ec3",
   "metadata": {},
   "outputs": [
    {
     "name": "stderr",
     "output_type": "stream",
     "text": [
      "C:\\Users\\HP\\anaconda3\\lib\\site-packages\\sklearn\\model_selection\\_search.py:292: UserWarning: The total space of parameters 25 is smaller than n_iter=50. Running 25 iterations. For exhaustive searches, use GridSearchCV.\n",
      "  warnings.warn(\n"
     ]
    },
    {
     "name": "stdout",
     "output_type": "stream",
     "text": [
      "Fitting 5 folds for each of 25 candidates, totalling 125 fits\n",
      "Best Score:  68.94809415936176\n",
      "Best Params:  {'kernel': 'rbf', 'gamma': 0.1, 'C': 100}\n"
     ]
    }
   ],
   "source": [
    "from sklearn.model_selection import RandomizedSearchCV\n",
    "random_search=RandomizedSearchCV(estimator = SVC(), param_distributions=search_space,verbose=2, n_jobs=-1,\n",
    "                            n_iter=50)\n",
    "random_result = random_search.fit(X_train, y_train)\n",
    "print('Best Score: ', random_result.best_score_*100)\n",
    "print('Best Params: ', random_result.best_params_)"
   ]
  },
  {
   "cell_type": "code",
   "execution_count": 11,
   "id": "8b5efdb7",
   "metadata": {},
   "outputs": [
    {
     "name": "stdout",
     "output_type": "stream",
     "text": [
      "Accuracy Score:\n",
      " 0.7541899441340782\n"
     ]
    }
   ],
   "source": [
    "from sklearn.svm import SVC\n",
    "model_svc = SVC(kernel='rbf', C=1000, gamma=0.001)\n",
    "model_svc.fit(X_train,y_train)\n",
    "\n",
    "y_pred = model_svc.predict(X_test)\n",
    "\n",
    "print('Accuracy Score:\\n',accuracy_score(y_test, y_pred))"
   ]
  },
  {
   "cell_type": "code",
   "execution_count": 12,
   "id": "e9b4e983",
   "metadata": {},
   "outputs": [
    {
     "name": "stdout",
     "output_type": "stream",
     "text": [
      "Cross Validation Scores are: [0.63687151 0.64606742 0.73033708 0.71348315 0.74157303]\n",
      "\n",
      "Average of Cross Validation Scores: 0.6936664365074383\n"
     ]
    }
   ],
   "source": [
    "# Using 5-Fold Cross Validation to generalise the model accuracy.\n",
    "\n",
    "from sklearn.model_selection import cross_val_score,KFold\n",
    "kf=KFold(n_splits=5)\n",
    "score=cross_val_score(model_svc,X,y,cv=kf)\n",
    "\n",
    "print(\"Cross Validation Scores are: {}\\n\".format(score))\n",
    "print(\"Average of Cross Validation Scores: {}\".format(score.mean()))"
   ]
  },
  {
   "cell_type": "markdown",
   "id": "5e8a59d5",
   "metadata": {},
   "source": [
    "# HypetOpt"
   ]
  },
  {
   "cell_type": "code",
   "execution_count": 16,
   "id": "e2dcd8db",
   "metadata": {},
   "outputs": [
    {
     "name": "stdout",
     "output_type": "stream",
     "text": [
      "Collecting hyperopt\n",
      "  Downloading hyperopt-0.2.7-py2.py3-none-any.whl (1.6 MB)\n",
      "Requirement already satisfied: six in c:\\users\\hp\\anaconda3\\lib\\site-packages (from hyperopt) (1.16.0)\n",
      "Requirement already satisfied: future in c:\\users\\hp\\anaconda3\\lib\\site-packages (from hyperopt) (0.18.2)\n",
      "Requirement already satisfied: cloudpickle in c:\\users\\hp\\anaconda3\\lib\\site-packages (from hyperopt) (2.0.0)\n",
      "Collecting py4j\n",
      "  Downloading py4j-0.10.9.7-py2.py3-none-any.whl (200 kB)\n",
      "Requirement already satisfied: tqdm in c:\\users\\hp\\anaconda3\\lib\\site-packages (from hyperopt) (4.64.0)\n",
      "Requirement already satisfied: numpy in c:\\users\\hp\\anaconda3\\lib\\site-packages (from hyperopt) (1.21.5)\n",
      "Requirement already satisfied: networkx>=2.2 in c:\\users\\hp\\anaconda3\\lib\\site-packages (from hyperopt) (2.7.1)\n",
      "Requirement already satisfied: scipy in c:\\users\\hp\\anaconda3\\lib\\site-packages (from hyperopt) (1.7.3)\n",
      "Requirement already satisfied: colorama in c:\\users\\hp\\anaconda3\\lib\\site-packages (from tqdm->hyperopt) (0.4.4)\n",
      "Installing collected packages: py4j, hyperopt\n",
      "Successfully installed hyperopt-0.2.7 py4j-0.10.9.7\n",
      "Note: you may need to restart the kernel to use updated packages.\n"
     ]
    }
   ],
   "source": [
    "pip install hyperopt\n"
   ]
  },
  {
   "cell_type": "code",
   "execution_count": 17,
   "id": "058a8ab3",
   "metadata": {},
   "outputs": [],
   "source": [
    "from hyperopt import tpe, hp, fmin, STATUS_OK,Trials\n",
    "\n",
    "def hyperparameter_tuning(params):\n",
    "    clf = SVC(**params)\n",
    "    acc = cross_val_score(clf, X, y,scoring=\"accuracy\").mean()\n",
    "    return {\"loss\": -acc, \"status\": STATUS_OK}"
   ]
  },
  {
   "cell_type": "code",
   "execution_count": 18,
   "id": "831eae86",
   "metadata": {},
   "outputs": [
    {
     "name": "stdout",
     "output_type": "stream",
     "text": [
      "100%|███████████████████████████████████████████████| 50/50 [00:40<00:00,  1.22trial/s, best loss: -0.7060134329295085]\n",
      "Best: {'C': 4, 'gamma': 1, 'kernel': 0}\n"
     ]
    }
   ],
   "source": [
    "# Initialize trials object\n",
    "\n",
    "search_space = {\n",
    "    \"C\": hp.choice(\"C\", [0.1, 1, 10, 100, 1000]),\n",
    "    \"gamma\": hp.choice(\"gamma\", [1, 0.1, 0.01, 0.001, 0.0001]),\n",
    "    \"kernel\": hp.choice(\"kernel\", ['rbf']),\n",
    "}\n",
    "\n",
    "trials = Trials()\n",
    "\n",
    "best = fmin(\n",
    "    fn=hyperparameter_tuning,\n",
    "    space = search_space, \n",
    "    algo=tpe.suggest, \n",
    "    max_evals=50, \n",
    "    trials=trials\n",
    ")\n",
    "\n",
    "print(\"Best: {}\".format(best))"
   ]
  },
  {
   "cell_type": "code",
   "execution_count": 21,
   "id": "db2e409c",
   "metadata": {},
   "outputs": [
    {
     "name": "stdout",
     "output_type": "stream",
     "text": [
      "Accuracy Score:\n",
      " 0.7262569832402235\n"
     ]
    }
   ],
   "source": [
    "from sklearn.svm import SVC\n",
    "model_svc = SVC(C= 4, gamma= 1, kernel= 'rbf')\n",
    "model_svc.fit(X_train,y_train)\n",
    "\n",
    "y_pred = model_svc.predict(X_test)\n",
    "\n",
    "print('Accuracy Score:\\n',accuracy_score(y_test, y_pred))"
   ]
  },
  {
   "cell_type": "code",
   "execution_count": 22,
   "id": "a2e977d6",
   "metadata": {},
   "outputs": [
    {
     "name": "stdout",
     "output_type": "stream",
     "text": [
      "Cross Validation Scores are: [0.67039106 0.61797753 0.7247191  0.71348315 0.76404494]\n",
      "\n",
      "Average of Cross Validation Scores: 0.6981231561107275\n"
     ]
    }
   ],
   "source": [
    "# Use 5-Fold Cross Validation to generalise the model accuracy.\n",
    "\n",
    "from sklearn.model_selection import cross_val_score,KFold\n",
    "\n",
    "kf=KFold(n_splits=5)\n",
    "score=cross_val_score(model_svc,X,y,cv=kf)\n",
    "\n",
    "print(\"Cross Validation Scores are: {}\\n\".format(score))\n",
    "print(\"Average of Cross Validation Scores: {}\".format(score.mean()))"
   ]
  },
  {
   "cell_type": "code",
   "execution_count": null,
   "id": "46b2baa5",
   "metadata": {},
   "outputs": [],
   "source": []
  }
 ],
 "metadata": {
  "kernelspec": {
   "display_name": "Python 3 (ipykernel)",
   "language": "python",
   "name": "python3"
  },
  "language_info": {
   "codemirror_mode": {
    "name": "ipython",
    "version": 3
   },
   "file_extension": ".py",
   "mimetype": "text/x-python",
   "name": "python",
   "nbconvert_exporter": "python",
   "pygments_lexer": "ipython3",
   "version": "3.9.12"
  }
 },
 "nbformat": 4,
 "nbformat_minor": 5
}
