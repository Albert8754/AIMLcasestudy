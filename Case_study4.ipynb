{
  "nbformat": 4,
  "nbformat_minor": 0,
  "metadata": {
    "colab": {
      "provenance": [],
      "authorship_tag": "ABX9TyNDmne1V5djxyfWxz/slZ2T",
      "include_colab_link": true
    },
    "kernelspec": {
      "name": "python3",
      "display_name": "Python 3"
    },
    "language_info": {
      "name": "python"
    },
    "accelerator": "GPU",
    "gpuClass": "standard"
  },
  "cells": [
    {
      "cell_type": "markdown",
      "metadata": {
        "id": "view-in-github",
        "colab_type": "text"
      },
      "source": [
        "<a href=\"https://colab.research.google.com/github/Albert8754/AIMLcasestudy/blob/main/Case_study4.ipynb\" target=\"_parent\"><img src=\"https://colab.research.google.com/assets/colab-badge.svg\" alt=\"Open In Colab\"/></a>"
      ]
    },
    {
      "cell_type": "code",
      "execution_count": 4,
      "metadata": {
        "id": "JKvv07YL8JFF"
      },
      "outputs": [],
      "source": [
        "import pandas as pd\n",
        "import numpy as np\n",
        "import matplotlib.pyplot as plt\n",
        "import seaborn as sns"
      ]
    },
    {
      "cell_type": "code",
      "source": [
        "filepath='/content/judge-1377884607_tweet_product_company (1).csv'\n",
        "data =pd.read_csv(filepath, encoding='unicode_escape')\n",
        "data.head()"
      ],
      "metadata": {
        "colab": {
          "base_uri": "https://localhost:8080/",
          "height": 206
        },
        "id": "_xXqn9YY8PXr",
        "outputId": "f3ff6326-0075-4926-d00f-274c13b58ff9"
      },
      "execution_count": 5,
      "outputs": [
        {
          "output_type": "execute_result",
          "data": {
            "text/plain": [
              "                                          tweet_text  \\\n",
              "0  .@wesley83 I have a 3G iPhone. After 3 hrs twe...   \n",
              "1  @jessedee Know about @fludapp ? Awesome iPad/i...   \n",
              "2  @swonderlin Can not wait for #iPad 2 also. The...   \n",
              "3  @sxsw I hope this year's festival isn't as cra...   \n",
              "4  @sxtxstate great stuff on Fri #SXSW: Marissa M...   \n",
              "\n",
              "  emotion_in_tweet_is_directed_at  \\\n",
              "0                          iPhone   \n",
              "1              iPad or iPhone App   \n",
              "2                            iPad   \n",
              "3              iPad or iPhone App   \n",
              "4                          Google   \n",
              "\n",
              "  is_there_an_emotion_directed_at_a_brand_or_product  \n",
              "0                                   Negative emotion  \n",
              "1                                   Positive emotion  \n",
              "2                                   Positive emotion  \n",
              "3                                   Negative emotion  \n",
              "4                                   Positive emotion  "
            ],
            "text/html": [
              "\n",
              "  <div id=\"df-b1c431af-70c4-40eb-b93c-33da38da5168\">\n",
              "    <div class=\"colab-df-container\">\n",
              "      <div>\n",
              "<style scoped>\n",
              "    .dataframe tbody tr th:only-of-type {\n",
              "        vertical-align: middle;\n",
              "    }\n",
              "\n",
              "    .dataframe tbody tr th {\n",
              "        vertical-align: top;\n",
              "    }\n",
              "\n",
              "    .dataframe thead th {\n",
              "        text-align: right;\n",
              "    }\n",
              "</style>\n",
              "<table border=\"1\" class=\"dataframe\">\n",
              "  <thead>\n",
              "    <tr style=\"text-align: right;\">\n",
              "      <th></th>\n",
              "      <th>tweet_text</th>\n",
              "      <th>emotion_in_tweet_is_directed_at</th>\n",
              "      <th>is_there_an_emotion_directed_at_a_brand_or_product</th>\n",
              "    </tr>\n",
              "  </thead>\n",
              "  <tbody>\n",
              "    <tr>\n",
              "      <th>0</th>\n",
              "      <td>.@wesley83 I have a 3G iPhone. After 3 hrs twe...</td>\n",
              "      <td>iPhone</td>\n",
              "      <td>Negative emotion</td>\n",
              "    </tr>\n",
              "    <tr>\n",
              "      <th>1</th>\n",
              "      <td>@jessedee Know about @fludapp ? Awesome iPad/i...</td>\n",
              "      <td>iPad or iPhone App</td>\n",
              "      <td>Positive emotion</td>\n",
              "    </tr>\n",
              "    <tr>\n",
              "      <th>2</th>\n",
              "      <td>@swonderlin Can not wait for #iPad 2 also. The...</td>\n",
              "      <td>iPad</td>\n",
              "      <td>Positive emotion</td>\n",
              "    </tr>\n",
              "    <tr>\n",
              "      <th>3</th>\n",
              "      <td>@sxsw I hope this year's festival isn't as cra...</td>\n",
              "      <td>iPad or iPhone App</td>\n",
              "      <td>Negative emotion</td>\n",
              "    </tr>\n",
              "    <tr>\n",
              "      <th>4</th>\n",
              "      <td>@sxtxstate great stuff on Fri #SXSW: Marissa M...</td>\n",
              "      <td>Google</td>\n",
              "      <td>Positive emotion</td>\n",
              "    </tr>\n",
              "  </tbody>\n",
              "</table>\n",
              "</div>\n",
              "      <button class=\"colab-df-convert\" onclick=\"convertToInteractive('df-b1c431af-70c4-40eb-b93c-33da38da5168')\"\n",
              "              title=\"Convert this dataframe to an interactive table.\"\n",
              "              style=\"display:none;\">\n",
              "        \n",
              "  <svg xmlns=\"http://www.w3.org/2000/svg\" height=\"24px\"viewBox=\"0 0 24 24\"\n",
              "       width=\"24px\">\n",
              "    <path d=\"M0 0h24v24H0V0z\" fill=\"none\"/>\n",
              "    <path d=\"M18.56 5.44l.94 2.06.94-2.06 2.06-.94-2.06-.94-.94-2.06-.94 2.06-2.06.94zm-11 1L8.5 8.5l.94-2.06 2.06-.94-2.06-.94L8.5 2.5l-.94 2.06-2.06.94zm10 10l.94 2.06.94-2.06 2.06-.94-2.06-.94-.94-2.06-.94 2.06-2.06.94z\"/><path d=\"M17.41 7.96l-1.37-1.37c-.4-.4-.92-.59-1.43-.59-.52 0-1.04.2-1.43.59L10.3 9.45l-7.72 7.72c-.78.78-.78 2.05 0 2.83L4 21.41c.39.39.9.59 1.41.59.51 0 1.02-.2 1.41-.59l7.78-7.78 2.81-2.81c.8-.78.8-2.07 0-2.86zM5.41 20L4 18.59l7.72-7.72 1.47 1.35L5.41 20z\"/>\n",
              "  </svg>\n",
              "      </button>\n",
              "      \n",
              "  <style>\n",
              "    .colab-df-container {\n",
              "      display:flex;\n",
              "      flex-wrap:wrap;\n",
              "      gap: 12px;\n",
              "    }\n",
              "\n",
              "    .colab-df-convert {\n",
              "      background-color: #E8F0FE;\n",
              "      border: none;\n",
              "      border-radius: 50%;\n",
              "      cursor: pointer;\n",
              "      display: none;\n",
              "      fill: #1967D2;\n",
              "      height: 32px;\n",
              "      padding: 0 0 0 0;\n",
              "      width: 32px;\n",
              "    }\n",
              "\n",
              "    .colab-df-convert:hover {\n",
              "      background-color: #E2EBFA;\n",
              "      box-shadow: 0px 1px 2px rgba(60, 64, 67, 0.3), 0px 1px 3px 1px rgba(60, 64, 67, 0.15);\n",
              "      fill: #174EA6;\n",
              "    }\n",
              "\n",
              "    [theme=dark] .colab-df-convert {\n",
              "      background-color: #3B4455;\n",
              "      fill: #D2E3FC;\n",
              "    }\n",
              "\n",
              "    [theme=dark] .colab-df-convert:hover {\n",
              "      background-color: #434B5C;\n",
              "      box-shadow: 0px 1px 3px 1px rgba(0, 0, 0, 0.15);\n",
              "      filter: drop-shadow(0px 1px 2px rgba(0, 0, 0, 0.3));\n",
              "      fill: #FFFFFF;\n",
              "    }\n",
              "  </style>\n",
              "\n",
              "      <script>\n",
              "        const buttonEl =\n",
              "          document.querySelector('#df-b1c431af-70c4-40eb-b93c-33da38da5168 button.colab-df-convert');\n",
              "        buttonEl.style.display =\n",
              "          google.colab.kernel.accessAllowed ? 'block' : 'none';\n",
              "\n",
              "        async function convertToInteractive(key) {\n",
              "          const element = document.querySelector('#df-b1c431af-70c4-40eb-b93c-33da38da5168');\n",
              "          const dataTable =\n",
              "            await google.colab.kernel.invokeFunction('convertToInteractive',\n",
              "                                                     [key], {});\n",
              "          if (!dataTable) return;\n",
              "\n",
              "          const docLinkHtml = 'Like what you see? Visit the ' +\n",
              "            '<a target=\"_blank\" href=https://colab.research.google.com/notebooks/data_table.ipynb>data table notebook</a>'\n",
              "            + ' to learn more about interactive tables.';\n",
              "          element.innerHTML = '';\n",
              "          dataTable['output_type'] = 'display_data';\n",
              "          await google.colab.output.renderOutput(dataTable, element);\n",
              "          const docLink = document.createElement('div');\n",
              "          docLink.innerHTML = docLinkHtml;\n",
              "          element.appendChild(docLink);\n",
              "        }\n",
              "      </script>\n",
              "    </div>\n",
              "  </div>\n",
              "  "
            ]
          },
          "metadata": {},
          "execution_count": 5
        }
      ]
    },
    {
      "cell_type": "code",
      "source": [
        "data.info()\n",
        "     "
      ],
      "metadata": {
        "colab": {
          "base_uri": "https://localhost:8080/"
        },
        "id": "UbZxWmA-8k4P",
        "outputId": "7f5c185d-f482-4040-f062-ef6eea99d541"
      },
      "execution_count": 6,
      "outputs": [
        {
          "output_type": "stream",
          "name": "stdout",
          "text": [
            "<class 'pandas.core.frame.DataFrame'>\n",
            "RangeIndex: 9093 entries, 0 to 9092\n",
            "Data columns (total 3 columns):\n",
            " #   Column                                              Non-Null Count  Dtype \n",
            "---  ------                                              --------------  ----- \n",
            " 0   tweet_text                                          9092 non-null   object\n",
            " 1   emotion_in_tweet_is_directed_at                     3291 non-null   object\n",
            " 2   is_there_an_emotion_directed_at_a_brand_or_product  9093 non-null   object\n",
            "dtypes: object(3)\n",
            "memory usage: 213.2+ KB\n"
          ]
        }
      ]
    },
    {
      "cell_type": "code",
      "source": [
        "data.isna().sum()"
      ],
      "metadata": {
        "colab": {
          "base_uri": "https://localhost:8080/"
        },
        "id": "uz63Qmx68o1b",
        "outputId": "46ac020f-83b8-4891-e655-eb5651a9b774"
      },
      "execution_count": 7,
      "outputs": [
        {
          "output_type": "execute_result",
          "data": {
            "text/plain": [
              "tweet_text                                               1\n",
              "emotion_in_tweet_is_directed_at                       5802\n",
              "is_there_an_emotion_directed_at_a_brand_or_product       0\n",
              "dtype: int64"
            ]
          },
          "metadata": {},
          "execution_count": 7
        }
      ]
    },
    {
      "cell_type": "code",
      "source": [
        "data.tweet_text.value_counts()"
      ],
      "metadata": {
        "colab": {
          "base_uri": "https://localhost:8080/"
        },
        "id": "dDKPSfNu8tvv",
        "outputId": "5b5b12fe-5669-4fb2-f3a2-1e690e8285fc"
      },
      "execution_count": 8,
      "outputs": [
        {
          "output_type": "execute_result",
          "data": {
            "text/plain": [
              "RT @mention Marissa Mayer: Google Will Connect the Digital &amp; Physical Worlds Through Mobile - {link} #sxsw                                 5\n",
              "RT @mention Google to Launch Major New Social Network Called Circles, Possibly Today {link} #sxsw                                              4\n",
              "RT @mention Marissa Mayer: Google Will Connect the Digital &amp; Physical Worlds Through Mobile - {link} #SXSW                                 4\n",
              "RT @mention Google to Launch Major New Social Network Called Circles, Possibly Today {link} #SXSW                                              3\n",
              "RT @mention ÷¼ GO BEYOND BORDERS! ÷_ {link} ã_ #edchat #musedchat #sxsw #sxswi #classical #newTwitter                                       2\n",
              "                                                                                                                                              ..\n",
              "Great interview to @mention on Bloomberg TV about #Ipad2 to kick off #SxSW.#apple {link}                                                       1\n",
              "Texas Observer Tomlinson says they would double revenue per issue with iPad subscriptions. #newsapps #sxsw                                     1\n",
              "Don't understand people who paid and travelled all the way to #sxsw would wait for hours to get ipad2, esp. when they already have an ipad.    1\n",
              "More farmers use BlackBerry than iPhone, but iPad is catching on because of bigger screen. #mobilefarm #sxsw                                   1\n",
              "Ï¡Ïàü_ÊÎÒ£Áââ_£â_ÛâRT @mention Google Tests ÛÏCheck-in OffersÛ At #SXSW {link}                                       1\n",
              "Name: tweet_text, Length: 9065, dtype: int64"
            ]
          },
          "metadata": {},
          "execution_count": 8
        }
      ]
    },
    {
      "cell_type": "code",
      "source": [
        "data.emotion_in_tweet_is_directed_at.value_counts()"
      ],
      "metadata": {
        "colab": {
          "base_uri": "https://localhost:8080/"
        },
        "id": "r3GXPuPH8yti",
        "outputId": "40ed4c0b-1000-450f-8d78-1dc0d5d40823"
      },
      "execution_count": 9,
      "outputs": [
        {
          "output_type": "execute_result",
          "data": {
            "text/plain": [
              "iPad                               946\n",
              "Apple                              661\n",
              "iPad or iPhone App                 470\n",
              "Google                             430\n",
              "iPhone                             297\n",
              "Other Google product or service    293\n",
              "Android App                         81\n",
              "Android                             78\n",
              "Other Apple product or service      35\n",
              "Name: emotion_in_tweet_is_directed_at, dtype: int64"
            ]
          },
          "metadata": {},
          "execution_count": 9
        }
      ]
    },
    {
      "cell_type": "code",
      "source": [
        "data.is_there_an_emotion_directed_at_a_brand_or_product.value_counts()"
      ],
      "metadata": {
        "colab": {
          "base_uri": "https://localhost:8080/"
        },
        "id": "67m21rhv88YJ",
        "outputId": "f6ca2338-d7d8-4a59-b347-07eeb2e3dd65"
      },
      "execution_count": 10,
      "outputs": [
        {
          "output_type": "execute_result",
          "data": {
            "text/plain": [
              "No emotion toward brand or product    5389\n",
              "Positive emotion                      2978\n",
              "Negative emotion                       570\n",
              "I can't tell                           156\n",
              "Name: is_there_an_emotion_directed_at_a_brand_or_product, dtype: int64"
            ]
          },
          "metadata": {},
          "execution_count": 10
        }
      ]
    },
    {
      "cell_type": "code",
      "source": [
        "fig =  plt.figure(figsize=(8,4))\n",
        "sns.countplot(x='is_there_an_emotion_directed_at_a_brand_or_product', data=data)\n",
        "plt.xticks(rotation=60)"
      ],
      "metadata": {
        "colab": {
          "base_uri": "https://localhost:8080/",
          "height": 450
        },
        "id": "Ke8j1FJs9BrJ",
        "outputId": "9bf69d8a-bd1f-4212-b169-d27301d05475"
      },
      "execution_count": 11,
      "outputs": [
        {
          "output_type": "execute_result",
          "data": {
            "text/plain": [
              "(array([0, 1, 2, 3]), <a list of 4 Text major ticklabel objects>)"
            ]
          },
          "metadata": {},
          "execution_count": 11
        },
        {
          "output_type": "display_data",
          "data": {
            "text/plain": [
              "<Figure size 576x288 with 1 Axes>"
            ],
            "image/png": "[encoded data removed]"
          },
          "metadata": {
            "needs_background": "light"
          }
        }
      ]
    },
    {
      "cell_type": "code",
      "source": [
        "fig =  plt.figure(figsize=(15,6))\n",
        "sns.countplot(x='emotion_in_tweet_is_directed_at', data=data)\n"
      ],
      "metadata": {
        "colab": {
          "base_uri": "https://localhost:8080/",
          "height": 406
        },
        "id": "4QyIZOWS9Eyq",
        "outputId": "71e7565d-b6eb-4ee5-88c6-4afc9247c037"
      },
      "execution_count": 12,
      "outputs": [
        {
          "output_type": "execute_result",
          "data": {
            "text/plain": [
              "<matplotlib.axes._subplots.AxesSubplot at 0x7f39ceffdb50>"
            ]
          },
          "metadata": {},
          "execution_count": 12
        },
        {
          "output_type": "display_data",
          "data": {
            "text/plain": [
              "<Figure size 1080x432 with 1 Axes>"
            ],
            "image/png": "[encoded data removed]"
          },
          "metadata": {
            "needs_background": "light"
          }
        }
      ]
    },
    {
      "cell_type": "code",
      "source": [
        "## TEXT PROCESSING"
      ],
      "metadata": {
        "id": "ivoGkFSD9T1K"
      },
      "execution_count": 13,
      "outputs": []
    },
    {
      "cell_type": "code",
      "source": [
        "df = data.copy(deep=True)\n",
        "df.drop_duplicates(subset=['tweet_text'], inplace=True) # contains duplicate entries\n",
        "df.dropna(subset=['tweet_text'], inplace=True) # only one missing row\n",
        "df.rename(columns = {'emotion_in_tweet_is_directed_at':'brand_item', 'is_there_an_emotion_directed_at_a_brand_or_product':'emotion'}, inplace=True)"
      ],
      "metadata": {
        "id": "W28ZkDKx9npn"
      },
      "execution_count": 14,
      "outputs": []
    },
    {
      "cell_type": "code",
      "source": [
        "# Convert the data types to string\n",
        "df['tweet_text'] = df['tweet_text'].astype(str)\n",
        "df['brand_item'] = df['brand_item'].astype(str)"
      ],
      "metadata": {
        "id": "TbxWdAvi9pjL"
      },
      "execution_count": 15,
      "outputs": []
    },
    {
      "cell_type": "code",
      "source": [
        "# Brand name mapping (similar to same category)\n",
        "brand = {'iPhone': 'apple',\n",
        "         'iPad or iPhone App':'apple',\n",
        "         'iPad': 'apple',\n",
        "         'Google': 'google',\n",
        "         'nan': 'UNK',\n",
        "         'Android':'google',\n",
        "         'Apple': 'apple',\n",
        "         'Android App':'google',\n",
        "         'Other Google product or service':'google',\n",
        "         'Other Apple product or service':'apple'\n",
        "        }"
      ],
      "metadata": {
        "id": "qbtsYAMd9_YW"
      },
      "execution_count": 16,
      "outputs": []
    },
    {
      "cell_type": "code",
      "source": [
        "df['brand_name'] = df['brand_item'].map(brand)"
      ],
      "metadata": {
        "id": "HGapaj-c-CwL"
      },
      "execution_count": 17,
      "outputs": []
    },
    {
      "cell_type": "code",
      "source": [
        "# Encoding class label to brief\n",
        "label_encoder = {'Negative emotion': 'negative',\n",
        "                 'Positive emotion': 'positive',\n",
        "                 'No emotion toward brand or product': 'neutral',\n",
        "                 \"I can't tell\":'confused'}"
      ],
      "metadata": {
        "id": "BPuYjR3Q-FVy"
      },
      "execution_count": 18,
      "outputs": []
    },
    {
      "cell_type": "code",
      "source": [
        "df.tweet_text.head(10)"
      ],
      "metadata": {
        "colab": {
          "base_uri": "https://localhost:8080/"
        },
        "id": "jY260VEV-I0A",
        "outputId": "99b57bf0-754f-423d-dad3-2cb215d2274a"
      },
      "execution_count": 19,
      "outputs": [
        {
          "output_type": "execute_result",
          "data": {
            "text/plain": [
              "0     .@wesley83 I have a 3G iPhone. After 3 hrs twe...\n",
              "1     @jessedee Know about @fludapp ? Awesome iPad/i...\n",
              "2     @swonderlin Can not wait for #iPad 2 also. The...\n",
              "3     @sxsw I hope this year's festival isn't as cra...\n",
              "4     @sxtxstate great stuff on Fri #SXSW: Marissa M...\n",
              "5     @teachntech00 New iPad Apps For #SpeechTherapy...\n",
              "7     #SXSW is just starting, #CTIA is around the co...\n",
              "8     Beautifully smart and simple idea RT @madebyma...\n",
              "9     Counting down the days to #sxsw plus strong Ca...\n",
              "10    Excited to meet the @samsungmobileus at #sxsw ...\n",
              "Name: tweet_text, dtype: object"
            ]
          },
          "metadata": {},
          "execution_count": 19
        }
      ]
    },
    {
      "cell_type": "code",
      "source": [
        "df_tt=df.tweet_text"
      ],
      "metadata": {
        "id": "EwV-DPoP-NG9"
      },
      "execution_count": 20,
      "outputs": []
    },
    {
      "cell_type": "code",
      "source": [
        "import nltk\n",
        "nltk.download('stopwords')"
      ],
      "metadata": {
        "colab": {
          "base_uri": "https://localhost:8080/"
        },
        "id": "XIDidkO1-TAa",
        "outputId": "24a0f7c5-86b1-478a-e25f-42be533e478d"
      },
      "execution_count": 21,
      "outputs": [
        {
          "output_type": "stream",
          "name": "stderr",
          "text": [
            "[nltk_data] Downloading package stopwords to /root/nltk_data...\n",
            "[nltk_data]   Unzipping corpora/stopwords.zip.\n"
          ]
        },
        {
          "output_type": "execute_result",
          "data": {
            "text/plain": [
              "True"
            ]
          },
          "metadata": {},
          "execution_count": 21
        }
      ]
    },
    {
      "cell_type": "code",
      "source": [
        "nltk.download('wordnet')\n",
        "nltk.download('omw-1.4')"
      ],
      "metadata": {
        "colab": {
          "base_uri": "https://localhost:8080/"
        },
        "id": "BAs4sp8n-VdX",
        "outputId": "e17bba8a-fea1-4948-e3fe-aeb0c4fe1cee"
      },
      "execution_count": 22,
      "outputs": [
        {
          "output_type": "stream",
          "name": "stderr",
          "text": [
            "[nltk_data] Downloading package wordnet to /root/nltk_data...\n",
            "[nltk_data] Downloading package omw-1.4 to /root/nltk_data...\n"
          ]
        },
        {
          "output_type": "execute_result",
          "data": {
            "text/plain": [
              "True"
            ]
          },
          "metadata": {},
          "execution_count": 22
        }
      ]
    },
    {
      "cell_type": "code",
      "source": [
        "import re\n",
        "import string\n",
        "\n",
        "data=df\n",
        "stopwords = nltk.corpus.stopwords.words('english')\n",
        "wn = nltk.WordNetLemmatizer()\n",
        "\n",
        "def clean_text(text):\n",
        "    text = \"\".join([word for word in text if word not in string.punctuation])\n",
        "    text_tokenize = re.split('\\W+', text)\n",
        "    text_nostop = [word for word in text_tokenize if word not in stopwords]\n",
        "    #text_stemm = [ps.stem(x) for x in text_nostop]\n",
        "    text_lemm = [wn.lemmatize(x) for x in text_nostop]\n",
        "    return text_lemm\n",
        "\n",
        "data['tweet_text_lemm'] = data['tweet_text'].apply(lambda x: clean_text(x.lower()))\n",
        "\n",
        "data.head()"
      ],
      "metadata": {
        "colab": {
          "base_uri": "https://localhost:8080/",
          "height": 206
        },
        "id": "x1YWPgDS-Xwv",
        "outputId": "d62b221f-b5be-4181-9b9e-b87a4c846892"
      },
      "execution_count": 23,
      "outputs": [
        {
          "output_type": "execute_result",
          "data": {
            "text/plain": [
              "                                          tweet_text          brand_item  \\\n",
              "0  .@wesley83 I have a 3G iPhone. After 3 hrs twe...              iPhone   \n",
              "1  @jessedee Know about @fludapp ? Awesome iPad/i...  iPad or iPhone App   \n",
              "2  @swonderlin Can not wait for #iPad 2 also. The...                iPad   \n",
              "3  @sxsw I hope this year's festival isn't as cra...  iPad or iPhone App   \n",
              "4  @sxtxstate great stuff on Fri #SXSW: Marissa M...              Google   \n",
              "\n",
              "            emotion brand_name  \\\n",
              "0  Negative emotion      apple   \n",
              "1  Positive emotion      apple   \n",
              "2  Positive emotion      apple   \n",
              "3  Negative emotion      apple   \n",
              "4  Positive emotion     google   \n",
              "\n",
              "                                     tweet_text_lemm  \n",
              "0  [wesley83, 3g, iphone, 3, hr, tweeting, riseau...  \n",
              "1  [jessedee, know, fludapp, awesome, ipadiphone,...  \n",
              "2      [swonderlin, wait, ipad, 2, also, sale, sxsw]  \n",
              "3  [sxsw, hope, year, festival, isnt, crashy, yea...  \n",
              "4  [sxtxstate, great, stuff, fri, sxsw, marissa, ...  "
            ],
            "text/html": [
              "\n",
              "  <div id=\"df-a2814e51-3089-400a-ac87-52f74226b86d\">\n",
              "    <div class=\"colab-df-container\">\n",
              "      <div>\n",
              "<style scoped>\n",
              "    .dataframe tbody tr th:only-of-type {\n",
              "        vertical-align: middle;\n",
              "    }\n",
              "\n",
              "    .dataframe tbody tr th {\n",
              "        vertical-align: top;\n",
              "    }\n",
              "\n",
              "    .dataframe thead th {\n",
              "        text-align: right;\n",
              "    }\n",
              "</style>\n",
              "<table border=\"1\" class=\"dataframe\">\n",
              "  <thead>\n",
              "    <tr style=\"text-align: right;\">\n",
              "      <th></th>\n",
              "      <th>tweet_text</th>\n",
              "      <th>brand_item</th>\n",
              "      <th>emotion</th>\n",
              "      <th>brand_name</th>\n",
              "      <th>tweet_text_lemm</th>\n",
              "    </tr>\n",
              "  </thead>\n",
              "  <tbody>\n",
              "    <tr>\n",
              "      <th>0</th>\n",
              "      <td>.@wesley83 I have a 3G iPhone. After 3 hrs twe...</td>\n",
              "      <td>iPhone</td>\n",
              "      <td>Negative emotion</td>\n",
              "      <td>apple</td>\n",
              "      <td>[wesley83, 3g, iphone, 3, hr, tweeting, riseau...</td>\n",
              "    </tr>\n",
              "    <tr>\n",
              "      <th>1</th>\n",
              "      <td>@jessedee Know about @fludapp ? Awesome iPad/i...</td>\n",
              "      <td>iPad or iPhone App</td>\n",
              "      <td>Positive emotion</td>\n",
              "      <td>apple</td>\n",
              "      <td>[jessedee, know, fludapp, awesome, ipadiphone,...</td>\n",
              "    </tr>\n",
              "    <tr>\n",
              "      <th>2</th>\n",
              "      <td>@swonderlin Can not wait for #iPad 2 also. The...</td>\n",
              "      <td>iPad</td>\n",
              "      <td>Positive emotion</td>\n",
              "      <td>apple</td>\n",
              "      <td>[swonderlin, wait, ipad, 2, also, sale, sxsw]</td>\n",
              "    </tr>\n",
              "    <tr>\n",
              "      <th>3</th>\n",
              "      <td>@sxsw I hope this year's festival isn't as cra...</td>\n",
              "      <td>iPad or iPhone App</td>\n",
              "      <td>Negative emotion</td>\n",
              "      <td>apple</td>\n",
              "      <td>[sxsw, hope, year, festival, isnt, crashy, yea...</td>\n",
              "    </tr>\n",
              "    <tr>\n",
              "      <th>4</th>\n",
              "      <td>@sxtxstate great stuff on Fri #SXSW: Marissa M...</td>\n",
              "      <td>Google</td>\n",
              "      <td>Positive emotion</td>\n",
              "      <td>google</td>\n",
              "      <td>[sxtxstate, great, stuff, fri, sxsw, marissa, ...</td>\n",
              "    </tr>\n",
              "  </tbody>\n",
              "</table>\n",
              "</div>\n",
              "      <button class=\"colab-df-convert\" onclick=\"convertToInteractive('df-a2814e51-3089-400a-ac87-52f74226b86d')\"\n",
              "              title=\"Convert this dataframe to an interactive table.\"\n",
              "              style=\"display:none;\">\n",
              "        \n",
              "  <svg xmlns=\"http://www.w3.org/2000/svg\" height=\"24px\"viewBox=\"0 0 24 24\"\n",
              "       width=\"24px\">\n",
              "    <path d=\"M0 0h24v24H0V0z\" fill=\"none\"/>\n",
              "    <path d=\"M18.56 5.44l.94 2.06.94-2.06 2.06-.94-2.06-.94-.94-2.06-.94 2.06-2.06.94zm-11 1L8.5 8.5l.94-2.06 2.06-.94-2.06-.94L8.5 2.5l-.94 2.06-2.06.94zm10 10l.94 2.06.94-2.06 2.06-.94-2.06-.94-.94-2.06-.94 2.06-2.06.94z\"/><path d=\"M17.41 7.96l-1.37-1.37c-.4-.4-.92-.59-1.43-.59-.52 0-1.04.2-1.43.59L10.3 9.45l-7.72 7.72c-.78.78-.78 2.05 0 2.83L4 21.41c.39.39.9.59 1.41.59.51 0 1.02-.2 1.41-.59l7.78-7.78 2.81-2.81c.8-.78.8-2.07 0-2.86zM5.41 20L4 18.59l7.72-7.72 1.47 1.35L5.41 20z\"/>\n",
              "  </svg>\n",
              "      </button>\n",
              "      \n",
              "  <style>\n",
              "    .colab-df-container {\n",
              "      display:flex;\n",
              "      flex-wrap:wrap;\n",
              "      gap: 12px;\n",
              "    }\n",
              "\n",
              "    .colab-df-convert {\n",
              "      background-color: #E8F0FE;\n",
              "      border: none;\n",
              "      border-radius: 50%;\n",
              "      cursor: pointer;\n",
              "      display: none;\n",
              "      fill: #1967D2;\n",
              "      height: 32px;\n",
              "      padding: 0 0 0 0;\n",
              "      width: 32px;\n",
              "    }\n",
              "\n",
              "    .colab-df-convert:hover {\n",
              "      background-color: #E2EBFA;\n",
              "      box-shadow: 0px 1px 2px rgba(60, 64, 67, 0.3), 0px 1px 3px 1px rgba(60, 64, 67, 0.15);\n",
              "      fill: #174EA6;\n",
              "    }\n",
              "\n",
              "    [theme=dark] .colab-df-convert {\n",
              "      background-color: #3B4455;\n",
              "      fill: #D2E3FC;\n",
              "    }\n",
              "\n",
              "    [theme=dark] .colab-df-convert:hover {\n",
              "      background-color: #434B5C;\n",
              "      box-shadow: 0px 1px 3px 1px rgba(0, 0, 0, 0.15);\n",
              "      filter: drop-shadow(0px 1px 2px rgba(0, 0, 0, 0.3));\n",
              "      fill: #FFFFFF;\n",
              "    }\n",
              "  </style>\n",
              "\n",
              "      <script>\n",
              "        const buttonEl =\n",
              "          document.querySelector('#df-a2814e51-3089-400a-ac87-52f74226b86d button.colab-df-convert');\n",
              "        buttonEl.style.display =\n",
              "          google.colab.kernel.accessAllowed ? 'block' : 'none';\n",
              "\n",
              "        async function convertToInteractive(key) {\n",
              "          const element = document.querySelector('#df-a2814e51-3089-400a-ac87-52f74226b86d');\n",
              "          const dataTable =\n",
              "            await google.colab.kernel.invokeFunction('convertToInteractive',\n",
              "                                                     [key], {});\n",
              "          if (!dataTable) return;\n",
              "\n",
              "          const docLinkHtml = 'Like what you see? Visit the ' +\n",
              "            '<a target=\"_blank\" href=https://colab.research.google.com/notebooks/data_table.ipynb>data table notebook</a>'\n",
              "            + ' to learn more about interactive tables.';\n",
              "          element.innerHTML = '';\n",
              "          dataTable['output_type'] = 'display_data';\n",
              "          await google.colab.output.renderOutput(dataTable, element);\n",
              "          const docLink = document.createElement('div');\n",
              "          docLink.innerHTML = docLinkHtml;\n",
              "          element.appendChild(docLink);\n",
              "        }\n",
              "      </script>\n",
              "    </div>\n",
              "  </div>\n",
              "  "
            ]
          },
          "metadata": {},
          "execution_count": 23
        }
      ]
    },
    {
      "cell_type": "code",
      "source": [
        "from sklearn.feature_extraction.text import CountVectorizer\n",
        "\n",
        "count_vect = CountVectorizer(analyzer=clean_text)\n",
        "X_counts = count_vect.fit_transform(data['tweet_text'])\n",
        "print(X_counts.shape)\n",
        "#print(count_vect.get_feature_names())\n",
        "print(count_vect.get_feature_names_out())"
      ],
      "metadata": {
        "colab": {
          "base_uri": "https://localhost:8080/"
        },
        "id": "XYdUmWSB-bhb",
        "outputId": "f32aeb4f-f29e-46e8-a34e-158f7404a633"
      },
      "execution_count": 24,
      "outputs": [
        {
          "output_type": "stream",
          "name": "stdout",
          "text": [
            "(9065, 12763)\n",
            "['' '0' '02' ... 'ë' 'öÝ' 'ü']\n"
          ]
        }
      ]
    },
    {
      "cell_type": "code",
      "source": [
        "X_counts_df = pd.DataFrame(X_counts.toarray())\n",
        "X_counts_df.columns = count_vect.get_feature_names()\n",
        "X = X_counts_df\n",
        "y_ohe = pd.get_dummies(df['emotion'])"
      ],
      "metadata": {
        "colab": {
          "base_uri": "https://localhost:8080/"
        },
        "id": "XWYEDsRP-irb",
        "outputId": "f7c42b6a-10e1-4f56-c9f1-676661b9d0e4"
      },
      "execution_count": 25,
      "outputs": [
        {
          "output_type": "stream",
          "name": "stderr",
          "text": [
            "/usr/local/lib/python3.8/dist-packages/sklearn/utils/deprecation.py:87: FutureWarning: Function get_feature_names is deprecated; get_feature_names is deprecated in 1.0 and will be removed in 1.2. Please use get_feature_names_out instead.\n",
            "  warnings.warn(msg, category=FutureWarning)\n"
          ]
        }
      ]
    },
    {
      "cell_type": "code",
      "source": [
        "## CNN-LSTM"
      ],
      "metadata": {
        "id": "0tAO6Uzt-yeC"
      },
      "execution_count": 26,
      "outputs": []
    },
    {
      "cell_type": "code",
      "source": [
        "X = X_counts_df\n",
        "y_ohe = pd.get_dummies(df['emotion'])"
      ],
      "metadata": {
        "id": "OY2-PC1m_Kb1"
      },
      "execution_count": 27,
      "outputs": []
    },
    {
      "cell_type": "code",
      "source": [
        "from sklearn.model_selection import train_test_split\n",
        "\n",
        "X_train, X_test, y_train, y_test = train_test_split(X, y_ohe, test_size=0.10, stratify=y_ohe,\n",
        "                                                    random_state=42)\n",
        "X_train, X_val, y_train, y_val = train_test_split(X_train, y_train, test_size=0.15, stratify=y_train,\n",
        "                                                  random_state=42)\n",
        "X_train.shape, X_val.shape, X_test.shape, y_train.shape, y_val.shape, y_test.shape"
      ],
      "metadata": {
        "colab": {
          "base_uri": "https://localhost:8080/"
        },
        "id": "iF6b3z8Q_Msq",
        "outputId": "dc82ab0b-1c62-4c3d-a4c6-6eae2d372d85"
      },
      "execution_count": 28,
      "outputs": [
        {
          "output_type": "execute_result",
          "data": {
            "text/plain": [
              "((6934, 12763), (1224, 12763), (907, 12763), (6934, 4), (1224, 4), (907, 4))"
            ]
          },
          "metadata": {},
          "execution_count": 28
        }
      ]
    },
    {
      "cell_type": "code",
      "source": [
        "train_x = np.asarray(X_train)\n",
        "train_y = np.asarray(y_train)\n",
        "validation_x = np.asarray(X_val)\n",
        "validation_y = np.asarray(y_val)\n",
        "train_x = train_x.reshape((train_x.shape[0],1,train_x.shape[1]))\n",
        "validation_x = validation_x.reshape((validation_x.shape[0],1,validation_x.shape[1]))\n",
        "train_x.shape, validation_x.shape"
      ],
      "metadata": {
        "colab": {
          "base_uri": "https://localhost:8080/"
        },
        "id": "o_CXtrXW_QQ1",
        "outputId": "6e280ae4-c00c-48d7-e035-bf5ee3f09194"
      },
      "execution_count": 29,
      "outputs": [
        {
          "output_type": "execute_result",
          "data": {
            "text/plain": [
              "((6934, 1, 12763), (1224, 1, 12763))"
            ]
          },
          "metadata": {},
          "execution_count": 29
        }
      ]
    },
    {
      "cell_type": "code",
      "source": [
        "from keras.layers.regularization.dropout import Dropout\n",
        "import keras\n",
        "from keras.models import Sequential\n",
        "from keras.layers import Dense\n",
        "from keras.layers import LSTM\n",
        "from keras.layers import BatchNormalization\n",
        "from keras.layers import MaxPooling2D\n",
        "\n",
        "model = Sequential()\n",
        "model.add(LSTM(150, activation='relu', input_shape=(1,train_x.shape[2])))\n",
        "model.add(BatchNormalization())\n",
        "model.add(Dense(100, activation='relu'))\n",
        "model.add(Dropout(0.2))\n",
        "model.add(Dense(30, activation='relu'))\n",
        "model.add(Dropout(0.2))\n",
        "model.add(Dense(4, activation='softmax'))\n",
        "model.compile(loss='categorical_crossentropy', optimizer='adam', metrics=['accuracy'])\n",
        "print(model.summary())"
      ],
      "metadata": {
        "colab": {
          "base_uri": "https://localhost:8080/"
        },
        "id": "oyx_J_LQ_Ton",
        "outputId": "9b5583fe-822e-4f1c-e096-8bfff327c8e6"
      },
      "execution_count": 30,
      "outputs": [
        {
          "output_type": "stream",
          "name": "stderr",
          "text": [
            "WARNING:tensorflow:Layer lstm will not use cuDNN kernels since it doesn't meet the criteria. It will use a generic GPU kernel as fallback when running on GPU.\n"
          ]
        },
        {
          "output_type": "stream",
          "name": "stdout",
          "text": [
            "Model: \"sequential\"\n",
            "_________________________________________________________________\n",
            " Layer (type)                Output Shape              Param #   \n",
            "=================================================================\n",
            " lstm (LSTM)                 (None, 150)               7748400   \n",
            "                                                                 \n",
            " batch_normalization (BatchN  (None, 150)              600       \n",
            " ormalization)                                                   \n",
            "                                                                 \n",
            " dense (Dense)               (None, 100)               15100     \n",
            "                                                                 \n",
            " dropout (Dropout)           (None, 100)               0         \n",
            "                                                                 \n",
            " dense_1 (Dense)             (None, 30)                3030      \n",
            "                                                                 \n",
            " dropout_1 (Dropout)         (None, 30)                0         \n",
            "                                                                 \n",
            " dense_2 (Dense)             (None, 4)                 124       \n",
            "                                                                 \n",
            "=================================================================\n",
            "Total params: 7,767,254\n",
            "Trainable params: 7,766,954\n",
            "Non-trainable params: 300\n",
            "_________________________________________________________________\n",
            "None\n"
          ]
        }
      ]
    },
    {
      "cell_type": "code",
      "source": [
        "history1=model.fit(train_x,train_y,batch_size=32, epochs=50,verbose=2,validation_data=(validation_x, validation_y ))"
      ],
      "metadata": {
        "colab": {
          "base_uri": "https://localhost:8080/"
        },
        "id": "SBO76uw9_XjZ",
        "outputId": "66f89e39-e373-4b65-dbcf-ff0516a5af1a"
      },
      "execution_count": 31,
      "outputs": [
        {
          "output_type": "stream",
          "name": "stdout",
          "text": [
            "Epoch 1/50\n",
            "217/217 - 6s - loss: 0.8965 - accuracy: 0.6105 - val_loss: 1.0186 - val_accuracy: 0.5964 - 6s/epoch - 26ms/step\n",
            "Epoch 2/50\n",
            "217/217 - 2s - loss: 0.5518 - accuracy: 0.7915 - val_loss: 0.8374 - val_accuracy: 0.6593 - 2s/epoch - 8ms/step\n",
            "Epoch 3/50\n",
            "217/217 - 2s - loss: 0.3417 - accuracy: 0.8709 - val_loss: 0.9614 - val_accuracy: 0.6577 - 2s/epoch - 8ms/step\n",
            "Epoch 4/50\n",
            "217/217 - 2s - loss: 0.2366 - accuracy: 0.9086 - val_loss: 1.3293 - val_accuracy: 0.6503 - 2s/epoch - 8ms/step\n",
            "Epoch 5/50\n",
            "217/217 - 2s - loss: 0.1867 - accuracy: 0.9221 - val_loss: 1.5951 - val_accuracy: 0.6536 - 2s/epoch - 8ms/step\n",
            "Epoch 6/50\n",
            "217/217 - 2s - loss: 0.1634 - accuracy: 0.9329 - val_loss: 1.7005 - val_accuracy: 0.6324 - 2s/epoch - 8ms/step\n",
            "Epoch 7/50\n",
            "217/217 - 2s - loss: 0.1469 - accuracy: 0.9412 - val_loss: 1.8715 - val_accuracy: 0.6462 - 2s/epoch - 8ms/step\n",
            "Epoch 8/50\n",
            "217/217 - 2s - loss: 0.1306 - accuracy: 0.9475 - val_loss: 1.8836 - val_accuracy: 0.6332 - 2s/epoch - 8ms/step\n",
            "Epoch 9/50\n",
            "217/217 - 2s - loss: 0.1150 - accuracy: 0.9550 - val_loss: 1.9766 - val_accuracy: 0.6389 - 2s/epoch - 8ms/step\n",
            "Epoch 10/50\n",
            "217/217 - 2s - loss: 0.0987 - accuracy: 0.9616 - val_loss: 2.3072 - val_accuracy: 0.6332 - 2s/epoch - 8ms/step\n",
            "Epoch 11/50\n",
            "217/217 - 2s - loss: 0.0978 - accuracy: 0.9629 - val_loss: 2.1153 - val_accuracy: 0.6324 - 2s/epoch - 8ms/step\n",
            "Epoch 12/50\n",
            "217/217 - 2s - loss: 0.0985 - accuracy: 0.9658 - val_loss: 2.2085 - val_accuracy: 0.6275 - 2s/epoch - 8ms/step\n",
            "Epoch 13/50\n",
            "217/217 - 2s - loss: 0.0838 - accuracy: 0.9678 - val_loss: 2.2971 - val_accuracy: 0.6225 - 2s/epoch - 8ms/step\n",
            "Epoch 14/50\n",
            "217/217 - 2s - loss: 0.0819 - accuracy: 0.9678 - val_loss: 2.2035 - val_accuracy: 0.6291 - 2s/epoch - 8ms/step\n",
            "Epoch 15/50\n",
            "217/217 - 2s - loss: 0.0681 - accuracy: 0.9732 - val_loss: 2.5661 - val_accuracy: 0.6258 - 2s/epoch - 8ms/step\n",
            "Epoch 16/50\n",
            "217/217 - 2s - loss: 0.0702 - accuracy: 0.9726 - val_loss: 2.5974 - val_accuracy: 0.6438 - 2s/epoch - 8ms/step\n",
            "Epoch 17/50\n",
            "217/217 - 2s - loss: 0.0693 - accuracy: 0.9742 - val_loss: 2.5150 - val_accuracy: 0.6332 - 2s/epoch - 8ms/step\n",
            "Epoch 18/50\n",
            "217/217 - 2s - loss: 0.0587 - accuracy: 0.9779 - val_loss: 2.7100 - val_accuracy: 0.6193 - 2s/epoch - 8ms/step\n",
            "Epoch 19/50\n",
            "217/217 - 2s - loss: 0.0562 - accuracy: 0.9804 - val_loss: 2.6257 - val_accuracy: 0.6291 - 2s/epoch - 8ms/step\n",
            "Epoch 20/50\n",
            "217/217 - 2s - loss: 0.0545 - accuracy: 0.9795 - val_loss: 2.8148 - val_accuracy: 0.6405 - 2s/epoch - 8ms/step\n",
            "Epoch 21/50\n",
            "217/217 - 2s - loss: 0.0657 - accuracy: 0.9742 - val_loss: 2.4786 - val_accuracy: 0.6348 - 2s/epoch - 8ms/step\n",
            "Epoch 22/50\n",
            "217/217 - 2s - loss: 0.0501 - accuracy: 0.9805 - val_loss: 2.7691 - val_accuracy: 0.6144 - 2s/epoch - 8ms/step\n",
            "Epoch 23/50\n",
            "217/217 - 2s - loss: 0.0496 - accuracy: 0.9825 - val_loss: 2.9961 - val_accuracy: 0.6422 - 2s/epoch - 8ms/step\n",
            "Epoch 24/50\n",
            "217/217 - 2s - loss: 0.0513 - accuracy: 0.9813 - val_loss: 2.8523 - val_accuracy: 0.6340 - 2s/epoch - 8ms/step\n",
            "Epoch 25/50\n",
            "217/217 - 2s - loss: 0.0518 - accuracy: 0.9810 - val_loss: 2.8849 - val_accuracy: 0.6315 - 2s/epoch - 8ms/step\n",
            "Epoch 26/50\n",
            "217/217 - 2s - loss: 0.0508 - accuracy: 0.9837 - val_loss: 2.7506 - val_accuracy: 0.6291 - 2s/epoch - 8ms/step\n",
            "Epoch 27/50\n",
            "217/217 - 2s - loss: 0.0396 - accuracy: 0.9857 - val_loss: 2.8294 - val_accuracy: 0.6413 - 2s/epoch - 8ms/step\n",
            "Epoch 28/50\n",
            "217/217 - 2s - loss: 0.0488 - accuracy: 0.9830 - val_loss: 2.7487 - val_accuracy: 0.6266 - 2s/epoch - 9ms/step\n",
            "Epoch 29/50\n",
            "217/217 - 2s - loss: 0.0455 - accuracy: 0.9853 - val_loss: 2.7060 - val_accuracy: 0.6275 - 2s/epoch - 8ms/step\n",
            "Epoch 30/50\n",
            "217/217 - 2s - loss: 0.0420 - accuracy: 0.9834 - val_loss: 2.8421 - val_accuracy: 0.6397 - 2s/epoch - 8ms/step\n",
            "Epoch 31/50\n",
            "217/217 - 2s - loss: 0.0393 - accuracy: 0.9833 - val_loss: 2.9259 - val_accuracy: 0.6307 - 2s/epoch - 8ms/step\n",
            "Epoch 32/50\n",
            "217/217 - 2s - loss: 0.0336 - accuracy: 0.9867 - val_loss: 2.9863 - val_accuracy: 0.6258 - 2s/epoch - 8ms/step\n",
            "Epoch 33/50\n",
            "217/217 - 2s - loss: 0.0383 - accuracy: 0.9867 - val_loss: 3.0917 - val_accuracy: 0.6283 - 2s/epoch - 8ms/step\n",
            "Epoch 34/50\n",
            "217/217 - 2s - loss: 0.0395 - accuracy: 0.9854 - val_loss: 3.0072 - val_accuracy: 0.6373 - 2s/epoch - 8ms/step\n",
            "Epoch 35/50\n",
            "217/217 - 2s - loss: 0.0413 - accuracy: 0.9859 - val_loss: 2.7508 - val_accuracy: 0.6356 - 2s/epoch - 8ms/step\n",
            "Epoch 36/50\n",
            "217/217 - 2s - loss: 0.0331 - accuracy: 0.9869 - val_loss: 2.9892 - val_accuracy: 0.6315 - 2s/epoch - 8ms/step\n",
            "Epoch 37/50\n",
            "217/217 - 2s - loss: 0.0345 - accuracy: 0.9873 - val_loss: 2.8868 - val_accuracy: 0.6299 - 2s/epoch - 8ms/step\n",
            "Epoch 38/50\n",
            "217/217 - 2s - loss: 0.0211 - accuracy: 0.9911 - val_loss: 3.4584 - val_accuracy: 0.6397 - 2s/epoch - 8ms/step\n",
            "Epoch 39/50\n",
            "217/217 - 2s - loss: 0.0301 - accuracy: 0.9873 - val_loss: 3.2282 - val_accuracy: 0.6397 - 2s/epoch - 8ms/step\n",
            "Epoch 40/50\n",
            "217/217 - 2s - loss: 0.0324 - accuracy: 0.9883 - val_loss: 3.0567 - val_accuracy: 0.6225 - 2s/epoch - 8ms/step\n",
            "Epoch 41/50\n",
            "217/217 - 2s - loss: 0.0364 - accuracy: 0.9869 - val_loss: 3.0842 - val_accuracy: 0.6307 - 2s/epoch - 8ms/step\n",
            "Epoch 42/50\n",
            "217/217 - 2s - loss: 0.0370 - accuracy: 0.9863 - val_loss: 3.0251 - val_accuracy: 0.6185 - 2s/epoch - 8ms/step\n",
            "Epoch 43/50\n",
            "217/217 - 2s - loss: 0.0410 - accuracy: 0.9854 - val_loss: 2.9629 - val_accuracy: 0.6258 - 2s/epoch - 8ms/step\n",
            "Epoch 44/50\n",
            "217/217 - 2s - loss: 0.0321 - accuracy: 0.9877 - val_loss: 2.9353 - val_accuracy: 0.6234 - 2s/epoch - 8ms/step\n",
            "Epoch 45/50\n",
            "217/217 - 2s - loss: 0.0237 - accuracy: 0.9908 - val_loss: 3.2747 - val_accuracy: 0.6275 - 2s/epoch - 8ms/step\n",
            "Epoch 46/50\n",
            "217/217 - 2s - loss: 0.0263 - accuracy: 0.9899 - val_loss: 3.6091 - val_accuracy: 0.6307 - 2s/epoch - 8ms/step\n",
            "Epoch 47/50\n",
            "217/217 - 2s - loss: 0.0302 - accuracy: 0.9873 - val_loss: 3.3074 - val_accuracy: 0.6291 - 2s/epoch - 8ms/step\n",
            "Epoch 48/50\n",
            "217/217 - 2s - loss: 0.0396 - accuracy: 0.9857 - val_loss: 2.9651 - val_accuracy: 0.6234 - 2s/epoch - 8ms/step\n",
            "Epoch 49/50\n",
            "217/217 - 2s - loss: 0.0377 - accuracy: 0.9882 - val_loss: 3.1636 - val_accuracy: 0.6405 - 2s/epoch - 8ms/step\n",
            "Epoch 50/50\n",
            "217/217 - 2s - loss: 0.0354 - accuracy: 0.9860 - val_loss: 3.0211 - val_accuracy: 0.6471 - 2s/epoch - 8ms/step\n"
          ]
        }
      ]
    },
    {
      "cell_type": "code",
      "source": [
        "metrics='accuracy'\n",
        "plt.plot(history1.history[metrics])\n",
        "plt.plot(history1.history['val_'+ metrics])\n",
        "plt.xlabel('Epochs')\n",
        "plt.ylabel(metrics)\n",
        "plt.legend(['training', 'test'], loc='upper right')\n",
        "plt.show()"
      ],
      "metadata": {
        "colab": {
          "base_uri": "https://localhost:8080/",
          "height": 279
        },
        "id": "QXbfcMPM_cY_",
        "outputId": "a23423d3-2ebf-4232-abf5-2b96c940a4de"
      },
      "execution_count": 32,
      "outputs": [
        {
          "output_type": "display_data",
          "data": {
            "text/plain": [
              "<Figure size 432x288 with 1 Axes>"
            ],
            "image/png": "[encoded data removed]"
          },
          "metadata": {
            "needs_background": "light"
          }
        }
      ]
    },
    {
      "cell_type": "code",
      "source": [
        "test_x=np.asarray(X_test)\n",
        "test_x=test_x.reshape((test_x.shape[0],1,test_x.shape[1]))\n",
        "test_y = np.asarray(y_test)\n",
        "\n",
        "y_pred = model.predict(test_x)\n",
        "y_pred"
      ],
      "metadata": {
        "colab": {
          "base_uri": "https://localhost:8080/"
        },
        "id": "8Di9_CKT_ijL",
        "outputId": "4f57af58-fed5-430d-fefa-d825266ac3eb"
      },
      "execution_count": 33,
      "outputs": [
        {
          "output_type": "stream",
          "name": "stdout",
          "text": [
            "29/29 [==============================] - 0s 3ms/step\n"
          ]
        },
        {
          "output_type": "execute_result",
          "data": {
            "text/plain": [
              "array([[4.7548012e-14, 5.6049589e-15, 6.7508573e-08, 9.9999988e-01],\n",
              "       [1.1766180e-05, 9.8888369e-05, 2.3296250e-04, 9.9965632e-01],\n",
              "       [2.0533577e-08, 1.2725177e-07, 9.9531871e-01, 4.6811108e-03],\n",
              "       ...,\n",
              "       [1.0880287e-09, 2.5453245e-11, 9.9997568e-01, 2.4311508e-05],\n",
              "       [2.4260777e-05, 8.5344154e-06, 9.9351352e-01, 6.4537530e-03],\n",
              "       [3.6044329e-07, 5.1674839e-08, 9.6892142e-01, 3.1078042e-02]],\n",
              "      dtype=float32)"
            ]
          },
          "metadata": {},
          "execution_count": 33
        }
      ]
    },
    {
      "cell_type": "code",
      "source": [
        "test_y"
      ],
      "metadata": {
        "colab": {
          "base_uri": "https://localhost:8080/"
        },
        "id": "GTVeDHc9_49w",
        "outputId": "e0771ba7-abf0-4565-8d3d-6c60616e2bea"
      },
      "execution_count": 34,
      "outputs": [
        {
          "output_type": "execute_result",
          "data": {
            "text/plain": [
              "array([[0, 0, 1, 0],\n",
              "       [0, 1, 0, 0],\n",
              "       [0, 0, 1, 0],\n",
              "       ...,\n",
              "       [0, 0, 1, 0],\n",
              "       [0, 0, 0, 1],\n",
              "       [0, 0, 0, 1]], dtype=uint8)"
            ]
          },
          "metadata": {},
          "execution_count": 34
        }
      ]
    }
  ]
}